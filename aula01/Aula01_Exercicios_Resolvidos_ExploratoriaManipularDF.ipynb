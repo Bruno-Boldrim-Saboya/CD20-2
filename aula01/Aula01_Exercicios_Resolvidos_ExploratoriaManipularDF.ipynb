{
 "cells": [
  {
   "cell_type": "markdown",
   "metadata": {},
   "source": [
    "# Ciência dos Dados - 2020 / Segundo Semestre\n",
    "\n",
    "## Aula 01 - Exercícios Exploratória para Manipular um DataFrame"
   ]
  },
  {
   "cell_type": "markdown",
   "metadata": {},
   "source": [
    "## Índice\n",
    "\n",
    "- [Gapminder](#gap)\n",
    "- [Exercício 1](#ex1)\n",
    "- [Exercício 2](#ex2)\n",
    "- [Resumo dos comandos](#resumo-comandos)"
   ]
  },
  {
   "cell_type": "markdown",
   "metadata": {},
   "source": [
    "___\n",
    "**IMPORTANTE**: os exercícios marcados com &#x2605;&#x2605;&#x2605; são mais difíceis e vão exigir que você aprenda novas funções do pandas. Recomendamos que vocês tentem fazer esses exercícios mesmo depois da aula.\n"
   ]
  },
  {
   "cell_type": "markdown",
   "metadata": {},
   "source": [
    "<div id=\"gap\"></div>\n",
    "\n",
    "___\n",
    "\n",
    "## Gapminder\n",
    "\n",
    "Gapminder é uma fundação sueca independente, sem afiliações políticas, religiosas ou econômicas.\n",
    "Possui diversas estatísticas socioeconômicas de quase todos países do mundo que podem ser facilmente obtidas por este [link](https://www.gapminder.org/data/).\n",
    "\n",
    "Para visualizar relações entre alguns indicadores dos países, veja [aqui](https://www.gapminder.org/tools/)\n"
   ]
  },
  {
   "cell_type": "markdown",
   "metadata": {},
   "source": [
    "O arquivo `Gapminder.xlsx` contém um *dataset* extraída do software R (mais detalhes [aqui](https://rdrr.io/cran/dslabs/man/gapminder.html)).\n",
    "\n",
    "Essa base de dados precisa de algumas manipulações antes de iniciar a análise exploratória, entretanto, a mesma irá depender do problema traçado. Nesse *dataframe*, os indicadores estão mensurados para 185 países os quais se repetem entre os anos de 1960 e 2016.\n"
   ]
  },
  {
   "cell_type": "code",
   "execution_count": 2,
   "metadata": {},
   "outputs": [],
   "source": [
    "# Importando as bibliotecas necessárias para esta atividade\n",
    "import pandas as pd"
   ]
  },
  {
   "cell_type": "code",
   "execution_count": 3,
   "metadata": {
    "tags": []
   },
   "outputs": [
    {
     "output_type": "stream",
     "name": "stdout",
     "text": "Esperamos trabalhar no diretório\nc:\\Users\\bbsab\\OneDrive\\Documentos\\GitHub\\CD20-2\\aula01\nParece que o arquivo Gapminder.xlsx está na pasta do notebook, yay!\n"
    }
   ],
   "source": [
    "import os\n",
    "print('Esperamos trabalhar no diretório')\n",
    "print(os.getcwd())\n",
    "\n",
    "filename = 'Gapminder.xlsx'\n",
    "if filename in os.listdir():\n",
    "    print(f'Parece que o arquivo {filename} está na pasta do notebook, yay!')\n",
    "else:\n",
    "    print(f'Não encontrei o arquivo {filename}')"
   ]
  },
  {
   "cell_type": "code",
   "execution_count": 4,
   "metadata": {},
   "outputs": [],
   "source": [
    "gap = pd.read_excel('Gapminder.xlsx')"
   ]
  },
  {
   "cell_type": "markdown",
   "metadata": {},
   "source": [
    "Aqui, `gap` é uma variável do tipo `DataFrame`. Cada uma das colunas significa:\n",
    "\n",
    "- **country**: nome do país;\n",
    "- **year**: ano;\n",
    "- **infant_mortality**: mortalidade infantil a cada 1000 nascidos;\n",
    "- **life_expectancy**: expectativa de vida;\n",
    "- **fertility**: número médio de filhos por mulher;\n",
    "- **population**: população do país;\n",
    "- **gpd**: PIB de acordo com World Bankdev;\n",
    "- **continent**: continente;\n",
    "- **region**: região geográfica.\n",
    "\n"
   ]
  },
  {
   "cell_type": "code",
   "execution_count": 5,
   "metadata": {},
   "outputs": [
    {
     "output_type": "execute_result",
     "data": {
      "text/plain": "   Unnamed: 0              country  year  infant_mortality  life_expectancy  \\\n0           1              Albania  1960            115.40            62.87   \n1           2              Algeria  1960            148.20            47.50   \n2           3               Angola  1960            208.00            35.98   \n3           4  Antigua and Barbuda  1960               NaN            62.97   \n4           5            Argentina  1960             59.87            65.39   \n\n   fertility  population           gdp continent           region  \n0       6.19   1636054.0           NaN    Europe  Southern Europe  \n1       7.65  11124892.0  1.382815e+10    Africa  Northern Africa  \n2       7.32   5270844.0           NaN    Africa    Middle Africa  \n3       4.43     54681.0           NaN  Americas        Caribbean  \n4       3.11  20619075.0  1.083223e+11  Americas    South America  ",
      "text/html": "<div>\n<style scoped>\n    .dataframe tbody tr th:only-of-type {\n        vertical-align: middle;\n    }\n\n    .dataframe tbody tr th {\n        vertical-align: top;\n    }\n\n    .dataframe thead th {\n        text-align: right;\n    }\n</style>\n<table border=\"1\" class=\"dataframe\">\n  <thead>\n    <tr style=\"text-align: right;\">\n      <th></th>\n      <th>Unnamed: 0</th>\n      <th>country</th>\n      <th>year</th>\n      <th>infant_mortality</th>\n      <th>life_expectancy</th>\n      <th>fertility</th>\n      <th>population</th>\n      <th>gdp</th>\n      <th>continent</th>\n      <th>region</th>\n    </tr>\n  </thead>\n  <tbody>\n    <tr>\n      <th>0</th>\n      <td>1</td>\n      <td>Albania</td>\n      <td>1960</td>\n      <td>115.40</td>\n      <td>62.87</td>\n      <td>6.19</td>\n      <td>1636054.0</td>\n      <td>NaN</td>\n      <td>Europe</td>\n      <td>Southern Europe</td>\n    </tr>\n    <tr>\n      <th>1</th>\n      <td>2</td>\n      <td>Algeria</td>\n      <td>1960</td>\n      <td>148.20</td>\n      <td>47.50</td>\n      <td>7.65</td>\n      <td>11124892.0</td>\n      <td>1.382815e+10</td>\n      <td>Africa</td>\n      <td>Northern Africa</td>\n    </tr>\n    <tr>\n      <th>2</th>\n      <td>3</td>\n      <td>Angola</td>\n      <td>1960</td>\n      <td>208.00</td>\n      <td>35.98</td>\n      <td>7.32</td>\n      <td>5270844.0</td>\n      <td>NaN</td>\n      <td>Africa</td>\n      <td>Middle Africa</td>\n    </tr>\n    <tr>\n      <th>3</th>\n      <td>4</td>\n      <td>Antigua and Barbuda</td>\n      <td>1960</td>\n      <td>NaN</td>\n      <td>62.97</td>\n      <td>4.43</td>\n      <td>54681.0</td>\n      <td>NaN</td>\n      <td>Americas</td>\n      <td>Caribbean</td>\n    </tr>\n    <tr>\n      <th>4</th>\n      <td>5</td>\n      <td>Argentina</td>\n      <td>1960</td>\n      <td>59.87</td>\n      <td>65.39</td>\n      <td>3.11</td>\n      <td>20619075.0</td>\n      <td>1.083223e+11</td>\n      <td>Americas</td>\n      <td>South America</td>\n    </tr>\n  </tbody>\n</table>\n</div>"
     },
     "metadata": {},
     "execution_count": 5
    }
   ],
   "source": [
    "gap.head()"
   ]
  },
  {
   "cell_type": "markdown",
   "metadata": {},
   "source": [
    "<div id=\"ex1\"></div>\n",
    "\n",
    "___\n",
    "\n",
    "### EXERCÍCIO 1\n",
    "\n",
    "Faça as seguintes manipulações:\n",
    " 1. Filtre apenas as linhas do ano 2010 e selecione as variáveis: `country`, `gdp`, `population` e `continent`\n",
    " 1. Guarde o subconjunto anterior em um novo `DataFrame` chamado `gap2010` e, nele, crie a variável `gdp_cap` que contenha o PIB per capita.\n",
    " 1. Encontre o país com menor PIB per capita em 2010. **Preencha o valor do PIB per capita desse país no campo de resposta do questionário do Blackboard.**\n",
    "\n",
    "**Dica**: use `gap.dtypes` para saber o tipo de cada variável. Ainda, consulte [aqui](https://cmdlinetips.com/2019/01/3-ways-to-add-new-columns-to-pandas-dataframe/) para entender como criar novas colunas em um *dataframe*."
   ]
  },
  {
   "cell_type": "code",
   "execution_count": 6,
   "metadata": {},
   "outputs": [
    {
     "output_type": "execute_result",
     "data": {
      "text/plain": "Unnamed: 0            int64\ncountry              object\nyear                  int64\ninfant_mortality    float64\nlife_expectancy     float64\nfertility           float64\npopulation          float64\ngdp                 float64\ncontinent            object\nregion               object\ndtype: object"
     },
     "metadata": {},
     "execution_count": 6
    }
   ],
   "source": [
    "gap.dtypes"
   ]
  },
  {
   "cell_type": "code",
   "execution_count": 7,
   "metadata": {
    "tags": []
   },
   "outputs": [
    {
     "output_type": "execute_result",
     "data": {
      "text/plain": "               country           gdp  population continent     gdp_cap\n9287  Congo, Dem. Rep.  6.961485e+09  65938712.0    Africa  105.575083\n9276           Burundi  1.158914e+09   9461117.0    Africa  122.492313\n9319     Guinea-Bissau  2.443955e+08   1634196.0    Africa  149.550888\n9302           Eritrea  7.711169e+08   4689664.0    Africa  164.429026\n9373             Niger  2.781188e+09  16291990.0    Africa  170.708926",
      "text/html": "<div>\n<style scoped>\n    .dataframe tbody tr th:only-of-type {\n        vertical-align: middle;\n    }\n\n    .dataframe tbody tr th {\n        vertical-align: top;\n    }\n\n    .dataframe thead th {\n        text-align: right;\n    }\n</style>\n<table border=\"1\" class=\"dataframe\">\n  <thead>\n    <tr style=\"text-align: right;\">\n      <th></th>\n      <th>country</th>\n      <th>gdp</th>\n      <th>population</th>\n      <th>continent</th>\n      <th>gdp_cap</th>\n    </tr>\n  </thead>\n  <tbody>\n    <tr>\n      <th>9287</th>\n      <td>Congo, Dem. Rep.</td>\n      <td>6.961485e+09</td>\n      <td>65938712.0</td>\n      <td>Africa</td>\n      <td>105.575083</td>\n    </tr>\n    <tr>\n      <th>9276</th>\n      <td>Burundi</td>\n      <td>1.158914e+09</td>\n      <td>9461117.0</td>\n      <td>Africa</td>\n      <td>122.492313</td>\n    </tr>\n    <tr>\n      <th>9319</th>\n      <td>Guinea-Bissau</td>\n      <td>2.443955e+08</td>\n      <td>1634196.0</td>\n      <td>Africa</td>\n      <td>149.550888</td>\n    </tr>\n    <tr>\n      <th>9302</th>\n      <td>Eritrea</td>\n      <td>7.711169e+08</td>\n      <td>4689664.0</td>\n      <td>Africa</td>\n      <td>164.429026</td>\n    </tr>\n    <tr>\n      <th>9373</th>\n      <td>Niger</td>\n      <td>2.781188e+09</td>\n      <td>16291990.0</td>\n      <td>Africa</td>\n      <td>170.708926</td>\n    </tr>\n  </tbody>\n</table>\n</div>"
     },
     "metadata": {},
     "execution_count": 7
    }
   ],
   "source": [
    "ano2010 = gap['year'] == 2010\n",
    "gap2010 = gap.loc[ano2010, ['country', 'gdp', 'population', 'continent']]\n",
    "gap2010['gdp_cap'] = gap['gdp']/gap['population']\n",
    "gap2010.sort_values('gdp_cap').head()"
   ]
  },
  {
   "cell_type": "markdown",
   "metadata": {},
   "source": [
    "<div id=\"ex2\"></div>\n",
    "\n",
    "___\n",
    "\n",
    "### EXERCÍCIO 2 &#x2605;&#x2605;&#x2605;\n",
    "\n",
    "Faça as seguintes manipulações:\n",
    "  1. Encontre os cinco maiores países (em tamanho populacional) do ano de 2015;\n",
    "  1. Filtre apenas as linhas dos cinco países acima considerando todos os anos e com as `country`, `year`, `gdp` e `population`. Guarde esse subconjunto em `gap5`;\n",
    "  1. Crie a variável (do `DataFrame` `gap5`) `dollar_day` que contenha uma *proxy* da renda per capita diária de cada país;\n",
    "  1. Responda no Blackboard o valor da renda per capita diária de cada país no ano de 1960, em ordem crescente.\n",
    "\n",
    "**Dica**: Para filtrar as linhas apenas dos cinco países selecionados no item 1 deste exercício, pesquise por:\n",
    "  - `isin`: retorna booleano se conteúdo da variável faz parte ou não de uma lista. Consulte sobre esse comando `isin` [aqui](https://pandas.pydata.org/pandas-docs/stable/reference/api/pandas.DataFrame.isin.html)\n",
    "  "
   ]
  },
  {
   "cell_type": "code",
   "execution_count": 8,
   "metadata": {},
   "outputs": [],
   "source": [
    "# Coloque seu código aqui...\n"
   ]
  },
  {
   "cell_type": "markdown",
   "metadata": {},
   "source": [
    "<div id=\"resumo-comandos\"></div>\n",
    "\n",
    "## Resumo dos Comandos\n",
    "\n",
    "Aqui você encontra um resumo dos comandos apresentados neste notebook:\n",
    "\n",
    "- [`dtypes`](#ex1): mostra o tipo de cada variável do *dataframe*.\n",
    "- [`isin`](#ex2): avalia, por exemplo, se conteúdo de uma coluna do *dataframe* faz parte ou não de uma lista.\n",
    "\n",
    "\n"
   ]
  }
 ],
 "metadata": {
  "kernelspec": {
   "name": "python3",
   "display_name": "Python 3"
  }
 },
 "nbformat": 4,
 "nbformat_minor": 4
}